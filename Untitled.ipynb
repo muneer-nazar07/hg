{
 "cells": [
  {
   "cell_type": "code",
   "execution_count": 1,
   "id": "28c6c72a",
   "metadata": {},
   "outputs": [],
   "source": [
    "#question 3 a"
   ]
  },
  {
   "cell_type": "code",
   "execution_count": null,
   "id": "bf7bbf33",
   "metadata": {},
   "outputs": [],
   "source": [
    "SELECT pname from person WHERE pno in (select pno from person WHERE dno=1) \n",
    "AND pno in (select pno from works_on WHERE prno=1)"
   ]
  },
  {
   "cell_type": "code",
   "execution_count": null,
   "id": "cfd0b54e",
   "metadata": {},
   "outputs": [],
   "source": [
    "SELECT kname from kids WHERE pno in (select pno from person WHERE dno=1) \n",
    "AND pno in (select pno from works_on WHERE prno=1)"
   ]
  },
  {
   "cell_type": "code",
   "execution_count": null,
   "id": "2e5b61aa",
   "metadata": {},
   "outputs": [],
   "source": [
    "#question 3 c"
   ]
  },
  {
   "cell_type": "code",
   "execution_count": null,
   "id": "7247c9ac",
   "metadata": {},
   "outputs": [],
   "source": [
    "SELECT * from person where pno"
   ]
  }
 ],
 "metadata": {
  "kernelspec": {
   "display_name": "Python 3",
   "language": "python",
   "name": "python3"
  },
  "language_info": {
   "codemirror_mode": {
    "name": "ipython",
    "version": 3
   },
   "file_extension": ".py",
   "mimetype": "text/x-python",
   "name": "python",
   "nbconvert_exporter": "python",
   "pygments_lexer": "ipython3",
   "version": "3.8.8"
  }
 },
 "nbformat": 4,
 "nbformat_minor": 5
}
